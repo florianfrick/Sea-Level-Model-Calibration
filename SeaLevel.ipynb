{
 "cells": [
  {
   "cell_type": "markdown",
   "metadata": {},
   "source": [
    "---\n",
    "\n",
    "# Sea Level\n",
    "## Florian Frick\n"
   ]
  },
  {
   "cell_type": "code",
   "execution_count": null,
   "metadata": {},
   "outputs": [],
   "source": [
    "import numpy as np\n",
    "import pandas as pd\n",
    "import matplotlib.pyplot as plt\n",
    "from matplotlib import colors\n",
    "from collections import deque\n",
    "import heapq\n",
    "import unittest\n",
    "from scipy import stats\n",
    "import copy as cp\n",
    "from time import time"
   ]
  },
  {
   "cell_type": "markdown",
   "metadata": {},
   "source": [
    "---\n",
    "\n",
    "## Loading the Data\n",
    "\n",
    "`data_sealevel.csv` is a data set of global mean sea levels\n",
    "* `sealevel`: list of global mean sea levels (millimeters).\n",
    "* `sealevel_sigma`: list of the *uncertainty* in global mean sea levels (millimeters).\n",
    "\n",
    "`data_temperature.csv` is a data set of global mean temperatures.\n",
    "* `temperature`: list of global mean temperatures (degrees Celsius).\n"
   ]
  },
  {
   "cell_type": "code",
   "execution_count": null,
   "metadata": {},
   "outputs": [],
   "source": [
    "year = []\n",
    "sealevel = []\n",
    "sealevel_sigma = []\n",
    "temperature = []\n",
    "\n",
    "dfSealevel = pd.read_csv(\"./data_sealevel.csv\")\n",
    "dfTemperature = pd.read_csv(\"./data_temperature.csv\")\n",
    "\n",
    "year = dfSealevel[\"year\"].tolist()\n",
    "sealevel = dfSealevel[\"sealevel\"].tolist()\n",
    "sealevel_sigma = dfSealevel[\"uncertainty\"].tolist()\n",
    "temperature = dfTemperature[\"temperature\"].tolist()"
   ]
  },
  {
   "cell_type": "markdown",
   "metadata": {},
   "source": [
    "### Data"
   ]
  },
  {
   "cell_type": "code",
   "execution_count": null,
   "metadata": {},
   "outputs": [],
   "source": [
    "# temperature\n",
    "fig, axes = plt.subplots(figsize=(16, 4), ncols=3)\n",
    "axes[0].scatter(year,temperature)\n",
    "axes[0].set_title(\"Temperature\")\n",
    "axes[0].set_xlabel(\"Year\")\n",
    "axes[0].set_ylabel(\"Temperature\")\n",
    "\n",
    "# sea level\n",
    "axes[1].scatter(year,sealevel)\n",
    "axes[1].set_title(\"Sea Level\")\n",
    "axes[1].set_xlabel(\"Year\")\n",
    "axes[1].set_ylabel(\"Sea level\")\n",
    "\n",
    "# sea level uncertainty\n",
    "axes[2].scatter(year,sealevel_sigma)\n",
    "axes[2].set_title(\"Sea level Uncertainty\")\n",
    "axes[2].set_xlabel(\"Year\")\n",
    "axes[2].set_ylabel(\"Uncertainty in sea level\");"
   ]
  },
  {
   "cell_type": "markdown",
   "metadata": {},
   "source": [
    "> The uncertainty in sea levels decreases over time. This is likely because technology has improved and measurements have become more and more accurate, reducing uncertainty. There are also probably more measurements done now so measurements can be easily verified with one other."
   ]
  },
  {
   "cell_type": "markdown",
   "metadata": {},
   "source": [
    "---\n",
    "\n",
    "### Simple Sea Level - Temperature Model \n",
    "\n",
    "A simple model for temperature-driven changes in global mean sea level (GMSL) is from [Rahmstorf (2007)](http://science.sciencemag.org/content/315/5810/368).\n",
    "\n",
    "\n",
    "The `slr` model takes two parameters, $\\alpha$ and $T_{eq}$, and requires a time series of global mean temperatures: `slr(alpha, Teq, temperature)`.\n",
    "* `alpha` is the sensitivity of sea-level changes to changes in global temperature. The units for $\\alpha$ are millimeters of sea-level changes per year, or mm y$^{-1}$.\n",
    "* `Teq` is the equilibrium global mean temperature, with units of degrees Celsius.\n",
    "* `temperature` is the time series of global mean surface temperatures, assumed to be relative to the 1961-1990 mean.\n",
    "\n",
    "The default parameter choices given in the Rahmstorf (2007) paper are $\\alpha=3.4$ mm y$^{-1}$ and $T_{eq} = -0.5\\ ^{\\circ}$C.\n",
    "\n",
    "Normalize model relative to 1961-1990 reference period:\n",
    "- Compute the mean of the output of the slr model for the years from 1961-1990 (inclusive).\n",
    "- Subtract this value from each entry in the \"sealevel\" list (list returned by the slr function)"
   ]
  },
  {
   "cell_type": "code",
   "execution_count": null,
   "metadata": {},
   "outputs": [],
   "source": [
    "def slr(alpha, Teq, temperature):\n",
    "    '''sea-level emulator of Rahmstorf 2007 (DOI: 10.1126/science.1135456)\n",
    "    Takes global mean temperature as forcing, and parameters:\n",
    "     alpha = temperature sensitivity of sea level rise, and\n",
    "     Teq   = equilibrium temperature,\n",
    "    and calculates a rise/fall in sea levels, based on whether the temperature\n",
    "    is warmer/cooler than the equilibrium temperature Teq.'''\n",
    "\n",
    "    n_time = len(temperature)\n",
    "    deltat = 1\n",
    "    sealevel = [0]*n_time\n",
    "    sealevel[0] = -134\n",
    "    for t in range(n_time-1):\n",
    "        sealevel[t+1] = sealevel[t] + deltat*alpha*(temperature[t]-Teq)\n",
    "\n",
    "    return sealevel"
   ]
  },
  {
   "cell_type": "code",
   "execution_count": null,
   "metadata": {
    "tags": []
   },
   "outputs": [],
   "source": [
    "# model\n",
    "model = slr(3.4,-.5,temperature)\n",
    "\n",
    "# normalization\n",
    "mean = np.mean(model[81:111])\n",
    "model = [model[i] - mean for i in range(len(model))]"
   ]
  },
  {
   "cell_type": "code",
   "execution_count": null,
   "metadata": {},
   "outputs": [],
   "source": [
    "fig, ax = plt.subplots(figsize=(6, 4))\n",
    "\n",
    "ax.plot(year,model,'orange',label=\"Modelled sea level\")\n",
    "ax.scatter(year,sealevel, label=\"Observed sea level\")\n",
    "ax.set_title(\"Sea Level\")\n",
    "ax.set_xlabel(\"Year\")\n",
    "ax.set_ylabel(\"Sea level\")\n",
    "ax.legend();"
   ]
  },
  {
   "cell_type": "markdown",
   "metadata": {},
   "source": [
    "> This model is good for recent years, but does not match the data starting at around 1950."
   ]
  },
  {
   "cell_type": "markdown",
   "metadata": {},
   "source": [
    "###   Define Objective Function\n",
    "\n",
    "**Objective function**: joint likelihood function of the observed sea level data, given the model simulation.\n",
    "\n",
    "For a single data point in year $i$, $y_i$, with associated uncertainty $\\sigma_i$, we can assume the likelihood for our model simulation in year $i$, $\\eta_i$, follows a normal distribution centered at the data point.  The model simulation is a **deterministic** result of our parameter choices $\\alpha$ and $T_{eq}$, so the likelihood is:\n",
    "\n",
    "$$L(y_i \\mid \\alpha, T_{eq}) = \\dfrac{1}{\\sqrt{2 \\pi} \\sigma_i} e^{-\\dfrac{(\\eta_i(\\alpha, T_{eq}) - y_i)^2}{2\\sigma_i^2}}$$\n",
    "\n",
    "The **joint log-likelihood**, is the natural logarithm of the joint likelihood function, or the product of all likelihoods associated with the individual data points. Assuming the observational data ($y_i$) are all independent, then the joint log-likelihood is:\n",
    "\n",
    "$$l(\\mathbf{y} \\mid \\alpha, T_{eq}) = -\\dfrac{N}{2} \\log{(2\\pi)} - \\sum_{i=1}^N \\log{(\\sigma_i)} - \\dfrac{1}{2}\\sum_{i=1}^N \\left( \\dfrac{\\eta_i(\\alpha, T_{eq}) - y_i}{\\sigma_i} \\right)^2$$\n",
    "\n",
    "where, $\\mathbf{y} = [y_1, y_2, \\ldots, y_N]$ is the vector of sea level observations, $\\eta(\\alpha, T_{eq}) = [\\eta_1(\\alpha, T_{eq}), \\eta_2(\\alpha, T_{eq}), \\ldots, \\eta_N(\\alpha, T_{eq})]$ is the vector of `slr` model output when the parameter values $\\alpha$ and $T_{eq}$ are used, and $N$ is the number of observations we have."
   ]
  },
  {
   "cell_type": "code",
   "execution_count": null,
   "metadata": {},
   "outputs": [],
   "source": [
    "\n",
    "def log_likelihood(parameters, obs_temp=temperature, obs_mu=sealevel, obs_sigma=sealevel_sigma):\n",
    "    ''' parameters = [\\alpha, \\T_eq]\n",
    "        obs_temp = time series of observed global mean temperatures, used to run slr model\n",
    "        obs_mu = time series of observed values, used for comparison against model\n",
    "        obs_sigma = time series of uncertainties in observational data\n",
    "        returns joint log-likelihood of the given model'''\n",
    "    \n",
    "    model = slr(alpha=parameters[0], Teq=parameters[1], temperature=temperature)\n",
    "    \n",
    "    # normalize\n",
    "    reference = (year.index(1961), year.index(1990))\n",
    "    model -= np.mean(model[reference[0]:(reference[1]+1)])\n",
    "\n",
    "    return np.sum([np.log(stats.norm.pdf(x=model, loc=obs_mu, scale=obs_sigma))])"
   ]
  },
  {
   "cell_type": "markdown",
   "metadata": {},
   "source": [
    "### Hill Climbing"
   ]
  },
  {
   "cell_type": "code",
   "execution_count": null,
   "metadata": {},
   "outputs": [],
   "source": [
    "class State:\n",
    "    def __init__(self, alpha, Teq, value):\n",
    "        # self.alpha = alpha\n",
    "        # self.Teq = Teq\n",
    "        self.node = [alpha, Teq]\n",
    "        self.value = value     \n",
    "\n",
    "class Problem():\n",
    "    def __init__(self, initial, objective_function, stepsize_alpha, stepsize_Teq):\n",
    "        self.current_state = initial\n",
    "        self.objective_function = objective_function\n",
    "        self.stepsize_alpha = stepsize_alpha\n",
    "        self.stepsize_Teq = stepsize_Teq\n",
    "\n",
    "    def moves(self):\n",
    "        '''return all possible moves to make from the current_state'''\n",
    "        all_moves = []\n",
    "        all_moves.append([round(sum(x),2) for x in zip(self.current_state.node, [self.stepsize_alpha,0])])\n",
    "        all_moves.append([round(sum(x),2) for x in zip(self.current_state.node, [-1*self.stepsize_alpha,0])])\n",
    "        all_moves.append([round(sum(x),2) for x in zip(self.current_state.node, [0,self.stepsize_Teq])])\n",
    "        all_moves.append([round(sum(x),2) for x in zip(self.current_state.node, [0,-1*self.stepsize_Teq])])\n",
    "        all_moves.append([round(sum(x),2) for x in zip(self.current_state.node, [self.stepsize_alpha,self.stepsize_Teq])])\n",
    "        all_moves.append([round(sum(x),2) for x in zip(self.current_state.node, [-1*self.stepsize_alpha,-1*self.stepsize_Teq])])\n",
    "        all_moves.append([round(sum(x),2) for x in zip(self.current_state.node, [-1*self.stepsize_alpha,self.stepsize_Teq])])\n",
    "        all_moves.append([round(sum(x),2) for x in zip(self.current_state.node, [self.stepsize_alpha,-1*self.stepsize_Teq])])\n",
    "        return all_moves\n",
    "        \n",
    "        \n",
    "class Problem_hillclimb(Problem):\n",
    "    def best_move(self):\n",
    "        '''return the best move possible from the current_state'''\n",
    "        all_moves = self.moves()\n",
    "        obj_func = [self.objective_function(move) for move in all_moves]\n",
    "        best = all_moves[max(zip(obj_func, range(len(obj_func))))[1]]\n",
    "        return best, np.max(obj_func)\n",
    "    \n",
    "def hill_climb(problem, n_iter):\n",
    "    for k in range(n_iter):\n",
    "        nextMove, nextValue = problem.best_move()\n",
    "        if nextValue <= problem.current_state.value:\n",
    "            return problem.current_state\n",
    "        #print(problem.current_state, nextMove)\n",
    "        problem.current_state.node, problem.current_state.value = nextMove, nextValue\n",
    "    print('Could not reach solution in n iterations')\n",
    "    return False"
   ]
  },
  {
   "cell_type": "code",
   "execution_count": null,
   "metadata": {},
   "outputs": [],
   "source": [
    "initial_state = State(3.4, -0.5, log_likelihood([3.4, -0.5]))\n",
    "problem = Problem_hillclimb(initial_state, log_likelihood, 0.01, 0.01)\n",
    "# Hill Climb\n",
    "out = hill_climb(problem, n_iter=1000)\n",
    "\n",
    "print(\"Calibrated [alpha, T_eq]:\", out.node)\n",
    "print(\"Log-likelihood value:\", out.value)\n",
    "print(\"Uncalibrated:\", [3.4, -.5], log_likelihood([3.4,-0.5]))\n",
    "\n",
    "\n",
    "calibrated_model =slr(out.node[0],out.node[1], temperature)\n",
    "# normalize\n",
    "mean = np.mean(calibrated_model[81:111])\n",
    "calibrated_model = [calibrated_model[i] - mean for i in range(len(calibrated_model))]\n",
    "\n",
    "\n",
    "fig, ax = plt.subplots(figsize=(6, 4))\n",
    "\n",
    "ax.plot(year,model,'orange',label=\"Uncalibrated model\")\n",
    "ax.plot(year,calibrated_model,'r',label=\"Calibrated model\")\n",
    "ax.scatter(year,sealevel, label=\"Observed sea level\")\n",
    "ax.set_title(\"Sea Level\")\n",
    "ax.set_xlabel(\"Year\")\n",
    "ax.set_ylabel(\"Sea level\")\n",
    "ax.legend();"
   ]
  },
  {
   "cell_type": "markdown",
   "metadata": {},
   "source": [
    "###  Simulated annealing"
   ]
  },
  {
   "cell_type": "code",
   "execution_count": null,
   "metadata": {},
   "outputs": [],
   "source": [
    "class Problem_annealing(Problem):\n",
    "    def __init__(self, initial, objective_function, schedule_function, stepsize_alpha, stepsize_Teq):\n",
    "        Problem.__init__(self, initial, objective_function, stepsize_alpha, stepsize_Teq)\n",
    "        self.schedule_function = schedule_function\n",
    "        \n",
    "    def random_move(self):\n",
    "        '''return a random move, possible from the current_state'''\n",
    "        all_moves = self.moves()\n",
    "        next_move = np.random.multivariate_normal(self.current_state.node, [[self.stepsize_alpha,0],[0,self.stepsize_Teq]])\n",
    "        next_move = [round(next_move[0],2),round(next_move[1],2)]\n",
    "        # next_move = all_moves[np.random.randint(low=0, high=len(all_moves))]\n",
    "        return next_move, self.objective_function(next_move)\n",
    "\n",
    "def simulated_annealing(problem, n_iter):\n",
    "    current = problem.current_state\n",
    "    \n",
    "    for t in range(n_iter):\n",
    "        temperature = problem.schedule_function(t)\n",
    "        nextMove, nextValue = problem.random_move()\n",
    "        delta_obj = nextValue - current.value\n",
    "        \n",
    "        if delta_obj > 0:\n",
    "            problem.current_state.node, problem.current_state.value = nextMove, nextValue\n",
    "        else:\n",
    "            p_accept = np.exp(delta_obj/temperature)\n",
    "            accept = np.random.choice([True,False],p=[p_accept,1-p_accept])\n",
    "            if accept:\n",
    "                problem.current_state.node, problem.current_state.value = nextMove, nextValue\n",
    "    return problem.current_state\n",
    "\n",
    "# Temperature schedule\n",
    "def schedule(time):\n",
    "    C = 20\n",
    "    p = 0.7\n",
    "    temperature = C/(time+1)**p\n",
    "    return temperature"
   ]
  },
  {
   "cell_type": "code",
   "execution_count": null,
   "metadata": {},
   "outputs": [],
   "source": [
    "initial_state = State(3.4, -0.5, log_likelihood([3.4, -0.5]))\n",
    "problem = Problem_annealing(initial_state, log_likelihood, schedule, 0.01, 0.01)\n",
    "# Anneal\n",
    "out = simulated_annealing(problem, n_iter=1000)\n",
    "\n",
    "print(\"Calibrated [alpha, T_eq]:\", out.node)\n",
    "print(\"Log-likelihood value:\", out.value)\n",
    "print(\"Uncalibrated:\", [3.4, -.5], log_likelihood([3.4,-0.5]))\n",
    "\n",
    "\n",
    "calibrated_model =slr(out.node[0],out.node[1], temperature)\n",
    "# normalize\n",
    "mean = np.mean(calibrated_model[81:111])\n",
    "calibrated_model = [calibrated_model[i] - mean for i in range(len(calibrated_model))]\n",
    "\n",
    "\n",
    "fig, ax = plt.subplots(figsize=(6, 4))\n",
    "\n",
    "ax.plot(year,model,'orange',label=\"Uncalibrated model\")\n",
    "ax.plot(year,calibrated_model,'r',label=\"Calibrated model\")\n",
    "ax.scatter(year,sealevel, label=\"Observed sea level\")\n",
    "ax.set_title(\"Sea Level\")\n",
    "ax.set_xlabel(\"Year\")\n",
    "ax.set_ylabel(\"Sea level\")\n",
    "ax.legend();"
   ]
  },
  {
   "cell_type": "markdown",
   "metadata": {},
   "source": [
    "> The Rahmstorf model had values of 3.4 and -0.5 for $\\alpha$ and $T_{eq}$, respectively.\n",
    "\n",
    "> Hill climbing gave values of 2.08 and -0.9 for $\\alpha$ and $T_{eq}$, respectively.\n",
    "\n",
    "> Simulated annealing gave values of 1.92 and -0.97 for $\\alpha$ and $T_{eq}$, respectively.\n",
    "\n",
    "> Both models decreased both parameter values from the initial Rahmstorf ones. Both models fit the data better than the Rahmstorf model, are incredibly similar to one another, and neither seems to have a statistically significant advantage over the other in this situation."
   ]
  }
 ],
 "metadata": {
  "kernelspec": {
   "display_name": "Python 3 (ipykernel)",
   "language": "python",
   "name": "python3"
  },
  "language_info": {
   "codemirror_mode": {
    "name": "ipython",
    "version": 3
   },
   "file_extension": ".py",
   "mimetype": "text/x-python",
   "name": "python",
   "nbconvert_exporter": "python",
   "pygments_lexer": "ipython3",
   "version": "3.10.8"
  }
 },
 "nbformat": 4,
 "nbformat_minor": 4
}
